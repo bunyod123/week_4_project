{
 "cells": [
  {
   "cell_type": "code",
   "execution_count": 2,
   "id": "c483bc95",
   "metadata": {},
   "outputs": [],
   "source": [
    "import pandas as pd\n",
    "import os,sys"
   ]
  },
  {
   "cell_type": "code",
   "execution_count": 6,
   "id": "ba09678f",
   "metadata": {},
   "outputs": [],
   "source": [
    "sys.path.append(r\"C:\\Users\\bunyo\\OneDrive\\Desktop\\git_project\\4_week_project\")"
   ]
  },
  {
   "cell_type": "code",
   "execution_count": 7,
   "id": "d4db2cf5",
   "metadata": {},
   "outputs": [],
   "source": [
    "from Source.logger import get_logger"
   ]
  },
  {
   "cell_type": "code",
   "execution_count": 9,
   "id": "027ce91f",
   "metadata": {},
   "outputs": [],
   "source": [
    "path = r\"C:\\Users\\bunyo\\OneDrive\\Desktop\\git_project\\4_week_project\\log\"\n",
    "logger = get_logger(path, 'data_loader.log')"
   ]
  },
  {
   "cell_type": "code",
   "execution_count": null,
   "id": "83fbe6c4",
   "metadata": {},
   "outputs": [],
   "source": []
  },
  {
   "cell_type": "code",
   "execution_count": null,
   "id": "dbffad42",
   "metadata": {},
   "outputs": [],
   "source": []
  },
  {
   "cell_type": "code",
   "execution_count": null,
   "id": "1b2b1221",
   "metadata": {},
   "outputs": [],
   "source": []
  }
 ],
 "metadata": {
  "kernelspec": {
   "display_name": "base",
   "language": "python",
   "name": "python3"
  },
  "language_info": {
   "codemirror_mode": {
    "name": "ipython",
    "version": 3
   },
   "file_extension": ".py",
   "mimetype": "text/x-python",
   "name": "python",
   "nbconvert_exporter": "python",
   "pygments_lexer": "ipython3",
   "version": "3.13.5"
  }
 },
 "nbformat": 4,
 "nbformat_minor": 5
}
