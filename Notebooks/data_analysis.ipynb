{
 "cells": [
  {
   "cell_type": "code",
   "execution_count": 3,
   "id": "daeeaf52",
   "metadata": {},
   "outputs": [],
   "source": [
    "import pyautogui as pt"
   ]
  },
  {
   "cell_type": "code",
   "execution_count": 108,
   "id": "fcb3696e",
   "metadata": {},
   "outputs": [],
   "source": [
    "x, y = pt.position()\n",
    "for i in range(30):\n",
    "    pt.moveTo(None,y)"
   ]
  },
  {
   "cell_type": "code",
   "execution_count": 110,
   "id": "67fb2e4f",
   "metadata": {},
   "outputs": [],
   "source": [
    "for i in range(30):\n",
    "    pt.moveTo(None,540)"
   ]
  },
  {
   "cell_type": "code",
   "execution_count": 109,
   "id": "b10ae434",
   "metadata": {},
   "outputs": [],
   "source": [
    "pt.mouseDown()"
   ]
  }
 ],
 "metadata": {
  "kernelspec": {
   "display_name": "base",
   "language": "python",
   "name": "python3"
  },
  "language_info": {
   "codemirror_mode": {
    "name": "ipython",
    "version": 3
   },
   "file_extension": ".py",
   "mimetype": "text/x-python",
   "name": "python",
   "nbconvert_exporter": "python",
   "pygments_lexer": "ipython3",
   "version": "3.13.5"
  }
 },
 "nbformat": 4,
 "nbformat_minor": 5
}
